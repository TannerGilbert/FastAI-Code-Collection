{
  "nbformat": 4,
  "nbformat_minor": 0,
  "metadata": {
    "colab": {
      "name": "FastAI V2 Twitter US Airline Sentiment ULMFiT approach.ipynb",
      "provenance": [],
      "collapsed_sections": []
    },
    "kernelspec": {
      "name": "python3",
      "display_name": "Python 3"
    },
    "accelerator": "GPU"
  },
  "cells": [
    {
      "cell_type": "markdown",
      "metadata": {
        "id": "FH0jyvER8KPQ",
        "colab_type": "text"
      },
      "source": [
        "# Twitter US Airline Sentiment ULMFiT approach"
      ]
    },
    {
      "cell_type": "code",
      "metadata": {
        "id": "diYk_HtG8DiP",
        "colab_type": "code",
        "colab": {
          "base_uri": "https://localhost:8080/",
          "height": 850
        },
        "outputId": "c42a63b6-195e-47d1-c5bd-46aac86ddc8d"
      },
      "source": [
        "!pip install fastai==2.0.10"
      ],
      "execution_count": null,
      "outputs": [
        {
          "output_type": "stream",
          "text": [
            "Collecting fastai==2.0.10\n",
            "\u001b[?25l  Downloading https://files.pythonhosted.org/packages/d4/cf/9140964d3544d904cc718e519e1632a8a42e1eaaf2fafdaaa14716c42336/fastai-2.0.10-py3-none-any.whl (354kB)\n",
            "\r\u001b[K     |█                               | 10kB 7.0MB/s eta 0:00:01\r\u001b[K     |█▉                              | 20kB 1.4MB/s eta 0:00:01\r\u001b[K     |██▊                             | 30kB 1.9MB/s eta 0:00:01\r\u001b[K     |███▊                            | 40kB 1.5MB/s eta 0:00:01\r\u001b[K     |████▋                           | 51kB 1.8MB/s eta 0:00:01\r\u001b[K     |█████▌                          | 61kB 2.0MB/s eta 0:00:01\r\u001b[K     |██████▌                         | 71kB 2.2MB/s eta 0:00:01\r\u001b[K     |███████▍                        | 81kB 2.5MB/s eta 0:00:01\r\u001b[K     |████████▎                       | 92kB 2.6MB/s eta 0:00:01\r\u001b[K     |█████████▎                      | 102kB 2.6MB/s eta 0:00:01\r\u001b[K     |██████████▏                     | 112kB 2.6MB/s eta 0:00:01\r\u001b[K     |███████████                     | 122kB 2.6MB/s eta 0:00:01\r\u001b[K     |████████████                    | 133kB 2.6MB/s eta 0:00:01\r\u001b[K     |█████████████                   | 143kB 2.6MB/s eta 0:00:01\r\u001b[K     |█████████████▉                  | 153kB 2.6MB/s eta 0:00:01\r\u001b[K     |██████████████▉                 | 163kB 2.6MB/s eta 0:00:01\r\u001b[K     |███████████████▊                | 174kB 2.6MB/s eta 0:00:01\r\u001b[K     |████████████████▋               | 184kB 2.6MB/s eta 0:00:01\r\u001b[K     |█████████████████▋              | 194kB 2.6MB/s eta 0:00:01\r\u001b[K     |██████████████████▌             | 204kB 2.6MB/s eta 0:00:01\r\u001b[K     |███████████████████▍            | 215kB 2.6MB/s eta 0:00:01\r\u001b[K     |████████████████████▍           | 225kB 2.6MB/s eta 0:00:01\r\u001b[K     |█████████████████████▎          | 235kB 2.6MB/s eta 0:00:01\r\u001b[K     |██████████████████████▏         | 245kB 2.6MB/s eta 0:00:01\r\u001b[K     |███████████████████████▏        | 256kB 2.6MB/s eta 0:00:01\r\u001b[K     |████████████████████████        | 266kB 2.6MB/s eta 0:00:01\r\u001b[K     |█████████████████████████       | 276kB 2.6MB/s eta 0:00:01\r\u001b[K     |█████████████████████████▉      | 286kB 2.6MB/s eta 0:00:01\r\u001b[K     |██████████████████████████▉     | 296kB 2.6MB/s eta 0:00:01\r\u001b[K     |███████████████████████████▊    | 307kB 2.6MB/s eta 0:00:01\r\u001b[K     |████████████████████████████▋   | 317kB 2.6MB/s eta 0:00:01\r\u001b[K     |█████████████████████████████▋  | 327kB 2.6MB/s eta 0:00:01\r\u001b[K     |██████████████████████████████▌ | 337kB 2.6MB/s eta 0:00:01\r\u001b[K     |███████████████████████████████▍| 348kB 2.6MB/s eta 0:00:01\r\u001b[K     |████████████████████████████████| 358kB 2.6MB/s \n",
            "\u001b[?25hRequirement already satisfied: requests in /usr/local/lib/python3.6/dist-packages (from fastai==2.0.10) (2.23.0)\n",
            "Requirement already satisfied: scikit-learn in /usr/local/lib/python3.6/dist-packages (from fastai==2.0.10) (0.22.2.post1)\n",
            "Requirement already satisfied: pip in /usr/local/lib/python3.6/dist-packages (from fastai==2.0.10) (19.3.1)\n",
            "Requirement already satisfied: pillow in /usr/local/lib/python3.6/dist-packages (from fastai==2.0.10) (7.0.0)\n",
            "Requirement already satisfied: packaging in /usr/local/lib/python3.6/dist-packages (from fastai==2.0.10) (20.4)\n",
            "Requirement already satisfied: scipy in /usr/local/lib/python3.6/dist-packages (from fastai==2.0.10) (1.4.1)\n",
            "Requirement already satisfied: matplotlib in /usr/local/lib/python3.6/dist-packages (from fastai==2.0.10) (3.2.2)\n",
            "Requirement already satisfied: torchvision>=0.7 in /usr/local/lib/python3.6/dist-packages (from fastai==2.0.10) (0.7.0+cu101)\n",
            "Requirement already satisfied: pandas in /usr/local/lib/python3.6/dist-packages (from fastai==2.0.10) (1.0.5)\n",
            "Requirement already satisfied: torch>=1.6.0 in /usr/local/lib/python3.6/dist-packages (from fastai==2.0.10) (1.6.0+cu101)\n",
            "Requirement already satisfied: fastprogress>=0.2.4 in /usr/local/lib/python3.6/dist-packages (from fastai==2.0.10) (1.0.0)\n",
            "Requirement already satisfied: spacy in /usr/local/lib/python3.6/dist-packages (from fastai==2.0.10) (2.2.4)\n",
            "Collecting fastcore>=1.0.5\n",
            "  Downloading https://files.pythonhosted.org/packages/ca/f6/fe20bfa7d818104f940da81a60e7532090fd87c31f90d4c3b8ae2823d28a/fastcore-1.0.9-py3-none-any.whl\n",
            "Requirement already satisfied: pyyaml in /usr/local/lib/python3.6/dist-packages (from fastai==2.0.10) (3.13)\n",
            "Requirement already satisfied: chardet<4,>=3.0.2 in /usr/local/lib/python3.6/dist-packages (from requests->fastai==2.0.10) (3.0.4)\n",
            "Requirement already satisfied: certifi>=2017.4.17 in /usr/local/lib/python3.6/dist-packages (from requests->fastai==2.0.10) (2020.6.20)\n",
            "Requirement already satisfied: idna<3,>=2.5 in /usr/local/lib/python3.6/dist-packages (from requests->fastai==2.0.10) (2.10)\n",
            "Requirement already satisfied: urllib3!=1.25.0,!=1.25.1,<1.26,>=1.21.1 in /usr/local/lib/python3.6/dist-packages (from requests->fastai==2.0.10) (1.24.3)\n",
            "Requirement already satisfied: numpy>=1.11.0 in /usr/local/lib/python3.6/dist-packages (from scikit-learn->fastai==2.0.10) (1.18.5)\n",
            "Requirement already satisfied: joblib>=0.11 in /usr/local/lib/python3.6/dist-packages (from scikit-learn->fastai==2.0.10) (0.16.0)\n",
            "Requirement already satisfied: six in /usr/local/lib/python3.6/dist-packages (from packaging->fastai==2.0.10) (1.15.0)\n",
            "Requirement already satisfied: pyparsing>=2.0.2 in /usr/local/lib/python3.6/dist-packages (from packaging->fastai==2.0.10) (2.4.7)\n",
            "Requirement already satisfied: python-dateutil>=2.1 in /usr/local/lib/python3.6/dist-packages (from matplotlib->fastai==2.0.10) (2.8.1)\n",
            "Requirement already satisfied: cycler>=0.10 in /usr/local/lib/python3.6/dist-packages (from matplotlib->fastai==2.0.10) (0.10.0)\n",
            "Requirement already satisfied: kiwisolver>=1.0.1 in /usr/local/lib/python3.6/dist-packages (from matplotlib->fastai==2.0.10) (1.2.0)\n",
            "Requirement already satisfied: pytz>=2017.2 in /usr/local/lib/python3.6/dist-packages (from pandas->fastai==2.0.10) (2018.9)\n",
            "Requirement already satisfied: future in /usr/local/lib/python3.6/dist-packages (from torch>=1.6.0->fastai==2.0.10) (0.16.0)\n",
            "Requirement already satisfied: srsly<1.1.0,>=1.0.2 in /usr/local/lib/python3.6/dist-packages (from spacy->fastai==2.0.10) (1.0.2)\n",
            "Requirement already satisfied: cymem<2.1.0,>=2.0.2 in /usr/local/lib/python3.6/dist-packages (from spacy->fastai==2.0.10) (2.0.3)\n",
            "Requirement already satisfied: preshed<3.1.0,>=3.0.2 in /usr/local/lib/python3.6/dist-packages (from spacy->fastai==2.0.10) (3.0.2)\n",
            "Requirement already satisfied: murmurhash<1.1.0,>=0.28.0 in /usr/local/lib/python3.6/dist-packages (from spacy->fastai==2.0.10) (1.0.2)\n",
            "Requirement already satisfied: blis<0.5.0,>=0.4.0 in /usr/local/lib/python3.6/dist-packages (from spacy->fastai==2.0.10) (0.4.1)\n",
            "Requirement already satisfied: wasabi<1.1.0,>=0.4.0 in /usr/local/lib/python3.6/dist-packages (from spacy->fastai==2.0.10) (0.7.1)\n",
            "Requirement already satisfied: catalogue<1.1.0,>=0.0.7 in /usr/local/lib/python3.6/dist-packages (from spacy->fastai==2.0.10) (1.0.0)\n",
            "Requirement already satisfied: thinc==7.4.0 in /usr/local/lib/python3.6/dist-packages (from spacy->fastai==2.0.10) (7.4.0)\n",
            "Requirement already satisfied: setuptools in /usr/local/lib/python3.6/dist-packages (from spacy->fastai==2.0.10) (49.6.0)\n",
            "Requirement already satisfied: tqdm<5.0.0,>=4.38.0 in /usr/local/lib/python3.6/dist-packages (from spacy->fastai==2.0.10) (4.41.1)\n",
            "Requirement already satisfied: plac<1.2.0,>=0.9.6 in /usr/local/lib/python3.6/dist-packages (from spacy->fastai==2.0.10) (1.1.3)\n",
            "Requirement already satisfied: importlib-metadata>=0.20; python_version < \"3.8\" in /usr/local/lib/python3.6/dist-packages (from catalogue<1.1.0,>=0.0.7->spacy->fastai==2.0.10) (1.7.0)\n",
            "Requirement already satisfied: zipp>=0.5 in /usr/local/lib/python3.6/dist-packages (from importlib-metadata>=0.20; python_version < \"3.8\"->catalogue<1.1.0,>=0.0.7->spacy->fastai==2.0.10) (3.1.0)\n",
            "Installing collected packages: fastcore, fastai\n",
            "  Found existing installation: fastai 1.0.61\n",
            "    Uninstalling fastai-1.0.61:\n",
            "      Successfully uninstalled fastai-1.0.61\n",
            "Successfully installed fastai-2.0.10 fastcore-1.0.9\n"
          ],
          "name": "stdout"
        }
      ]
    },
    {
      "cell_type": "code",
      "metadata": {
        "id": "JOavC2Qy8NSH",
        "colab_type": "code",
        "colab": {}
      },
      "source": [
        "from fastai.text.all import *"
      ],
      "execution_count": null,
      "outputs": []
    },
    {
      "cell_type": "markdown",
      "metadata": {
        "id": "x-nl3KRU8OXv",
        "colab_type": "text"
      },
      "source": [
        "## Dataset"
      ]
    },
    {
      "cell_type": "code",
      "metadata": {
        "id": "MQmnnFar8Pwm",
        "colab_type": "code",
        "colab": {
          "base_uri": "https://localhost:8080/",
          "height": 136
        },
        "outputId": "3e8585b9-302d-46d2-b0f1-35fc02fca2e2"
      },
      "source": [
        "# Install Kaggle API\n",
        "!pip install -q kaggle\n",
        "!pip install -q kaggle-cli"
      ],
      "execution_count": null,
      "outputs": [
        {
          "output_type": "stream",
          "text": [
            "\u001b[K     |████████████████████████████████| 81kB 2.6MB/s \n",
            "\u001b[K     |████████████████████████████████| 5.3MB 5.9MB/s \n",
            "\u001b[K     |████████████████████████████████| 51kB 7.2MB/s \n",
            "\u001b[K     |████████████████████████████████| 133kB 46.2MB/s \n",
            "\u001b[K     |████████████████████████████████| 112kB 46.3MB/s \n",
            "\u001b[?25h  Building wheel for kaggle-cli (setup.py) ... \u001b[?25l\u001b[?25hdone\n",
            "  Building wheel for pyperclip (setup.py) ... \u001b[?25l\u001b[?25hdone\n"
          ],
          "name": "stdout"
        }
      ]
    },
    {
      "cell_type": "code",
      "metadata": {
        "id": "L2mE67IQ8RKA",
        "colab_type": "code",
        "colab": {}
      },
      "source": [
        "# only for google colab\n",
        "import os\n",
        "os.environ['KAGGLE_USERNAME'] = \"<username>\" \n",
        "os.environ['KAGGLE_KEY'] = \"<key>\""
      ],
      "execution_count": null,
      "outputs": []
    },
    {
      "cell_type": "code",
      "metadata": {
        "id": "kbRFFgkK8SIh",
        "colab_type": "code",
        "colab": {}
      },
      "source": [
        "path = Path('twitter-sentiment')\n",
        "path.mkdir(parents=True, exist_ok=True)"
      ],
      "execution_count": null,
      "outputs": []
    },
    {
      "cell_type": "code",
      "metadata": {
        "id": "ue-xo5Wd8UBp",
        "colab_type": "code",
        "colab": {
          "base_uri": "https://localhost:8080/",
          "height": 68
        },
        "outputId": "c1b8952e-7d2d-4cda-ccae-01c6b3e9296c"
      },
      "source": [
        "! kaggle datasets download crowdflower/twitter-airline-sentiment -p \"{path}\" --unzip"
      ],
      "execution_count": null,
      "outputs": [
        {
          "output_type": "stream",
          "text": [
            "Downloading twitter-airline-sentiment.zip to twitter-sentiment\n",
            "\r  0% 0.00/2.55M [00:00<?, ?B/s]\n",
            "\r100% 2.55M/2.55M [00:00<00:00, 84.0MB/s]\n"
          ],
          "name": "stdout"
        }
      ]
    },
    {
      "cell_type": "code",
      "metadata": {
        "id": "MQCORUF38UMR",
        "colab_type": "code",
        "colab": {
          "base_uri": "https://localhost:8080/",
          "height": 632
        },
        "outputId": "9f63cdb8-ebe8-4596-e432-19f31bca80c8"
      },
      "source": [
        "df = pd.read_csv(path/'Tweets.csv')\n",
        "df.head()"
      ],
      "execution_count": null,
      "outputs": [
        {
          "output_type": "execute_result",
          "data": {
            "text/html": [
              "<div>\n",
              "<style scoped>\n",
              "    .dataframe tbody tr th:only-of-type {\n",
              "        vertical-align: middle;\n",
              "    }\n",
              "\n",
              "    .dataframe tbody tr th {\n",
              "        vertical-align: top;\n",
              "    }\n",
              "\n",
              "    .dataframe thead th {\n",
              "        text-align: right;\n",
              "    }\n",
              "</style>\n",
              "<table border=\"1\" class=\"dataframe\">\n",
              "  <thead>\n",
              "    <tr style=\"text-align: right;\">\n",
              "      <th></th>\n",
              "      <th>tweet_id</th>\n",
              "      <th>airline_sentiment</th>\n",
              "      <th>airline_sentiment_confidence</th>\n",
              "      <th>negativereason</th>\n",
              "      <th>negativereason_confidence</th>\n",
              "      <th>airline</th>\n",
              "      <th>airline_sentiment_gold</th>\n",
              "      <th>name</th>\n",
              "      <th>negativereason_gold</th>\n",
              "      <th>retweet_count</th>\n",
              "      <th>text</th>\n",
              "      <th>tweet_coord</th>\n",
              "      <th>tweet_created</th>\n",
              "      <th>tweet_location</th>\n",
              "      <th>user_timezone</th>\n",
              "    </tr>\n",
              "  </thead>\n",
              "  <tbody>\n",
              "    <tr>\n",
              "      <th>0</th>\n",
              "      <td>570306133677760513</td>\n",
              "      <td>neutral</td>\n",
              "      <td>1.0000</td>\n",
              "      <td>NaN</td>\n",
              "      <td>NaN</td>\n",
              "      <td>Virgin America</td>\n",
              "      <td>NaN</td>\n",
              "      <td>cairdin</td>\n",
              "      <td>NaN</td>\n",
              "      <td>0</td>\n",
              "      <td>@VirginAmerica What @dhepburn said.</td>\n",
              "      <td>NaN</td>\n",
              "      <td>2015-02-24 11:35:52 -0800</td>\n",
              "      <td>NaN</td>\n",
              "      <td>Eastern Time (US &amp; Canada)</td>\n",
              "    </tr>\n",
              "    <tr>\n",
              "      <th>1</th>\n",
              "      <td>570301130888122368</td>\n",
              "      <td>positive</td>\n",
              "      <td>0.3486</td>\n",
              "      <td>NaN</td>\n",
              "      <td>0.0000</td>\n",
              "      <td>Virgin America</td>\n",
              "      <td>NaN</td>\n",
              "      <td>jnardino</td>\n",
              "      <td>NaN</td>\n",
              "      <td>0</td>\n",
              "      <td>@VirginAmerica plus you've added commercials to the experience... tacky.</td>\n",
              "      <td>NaN</td>\n",
              "      <td>2015-02-24 11:15:59 -0800</td>\n",
              "      <td>NaN</td>\n",
              "      <td>Pacific Time (US &amp; Canada)</td>\n",
              "    </tr>\n",
              "    <tr>\n",
              "      <th>2</th>\n",
              "      <td>570301083672813571</td>\n",
              "      <td>neutral</td>\n",
              "      <td>0.6837</td>\n",
              "      <td>NaN</td>\n",
              "      <td>NaN</td>\n",
              "      <td>Virgin America</td>\n",
              "      <td>NaN</td>\n",
              "      <td>yvonnalynn</td>\n",
              "      <td>NaN</td>\n",
              "      <td>0</td>\n",
              "      <td>@VirginAmerica I didn't today... Must mean I need to take another trip!</td>\n",
              "      <td>NaN</td>\n",
              "      <td>2015-02-24 11:15:48 -0800</td>\n",
              "      <td>Lets Play</td>\n",
              "      <td>Central Time (US &amp; Canada)</td>\n",
              "    </tr>\n",
              "    <tr>\n",
              "      <th>3</th>\n",
              "      <td>570301031407624196</td>\n",
              "      <td>negative</td>\n",
              "      <td>1.0000</td>\n",
              "      <td>Bad Flight</td>\n",
              "      <td>0.7033</td>\n",
              "      <td>Virgin America</td>\n",
              "      <td>NaN</td>\n",
              "      <td>jnardino</td>\n",
              "      <td>NaN</td>\n",
              "      <td>0</td>\n",
              "      <td>@VirginAmerica it's really aggressive to blast obnoxious \"entertainment\" in your guests' faces &amp;amp; they have little recourse</td>\n",
              "      <td>NaN</td>\n",
              "      <td>2015-02-24 11:15:36 -0800</td>\n",
              "      <td>NaN</td>\n",
              "      <td>Pacific Time (US &amp; Canada)</td>\n",
              "    </tr>\n",
              "    <tr>\n",
              "      <th>4</th>\n",
              "      <td>570300817074462722</td>\n",
              "      <td>negative</td>\n",
              "      <td>1.0000</td>\n",
              "      <td>Can't Tell</td>\n",
              "      <td>1.0000</td>\n",
              "      <td>Virgin America</td>\n",
              "      <td>NaN</td>\n",
              "      <td>jnardino</td>\n",
              "      <td>NaN</td>\n",
              "      <td>0</td>\n",
              "      <td>@VirginAmerica and it's a really big bad thing about it</td>\n",
              "      <td>NaN</td>\n",
              "      <td>2015-02-24 11:14:45 -0800</td>\n",
              "      <td>NaN</td>\n",
              "      <td>Pacific Time (US &amp; Canada)</td>\n",
              "    </tr>\n",
              "  </tbody>\n",
              "</table>\n",
              "</div>"
            ],
            "text/plain": [
              "             tweet_id  ...               user_timezone\n",
              "0  570306133677760513  ...  Eastern Time (US & Canada)\n",
              "1  570301130888122368  ...  Pacific Time (US & Canada)\n",
              "2  570301083672813571  ...  Central Time (US & Canada)\n",
              "3  570301031407624196  ...  Pacific Time (US & Canada)\n",
              "4  570300817074462722  ...  Pacific Time (US & Canada)\n",
              "\n",
              "[5 rows x 15 columns]"
            ]
          },
          "metadata": {
            "tags": []
          },
          "execution_count": 7
        }
      ]
    },
    {
      "cell_type": "code",
      "metadata": {
        "id": "v1749J3W8Wn7",
        "colab_type": "code",
        "colab": {
          "base_uri": "https://localhost:8080/",
          "height": 34
        },
        "outputId": "9ca253a3-c589-44e3-ab78-841f64aa85c1"
      },
      "source": [
        "train_df, valid_df = df.loc[:12000,:], df.loc[12000:,:]\n",
        "len(train_df), len(valid_df)"
      ],
      "execution_count": null,
      "outputs": [
        {
          "output_type": "execute_result",
          "data": {
            "text/plain": [
              "(12001, 2640)"
            ]
          },
          "metadata": {
            "tags": []
          },
          "execution_count": 8
        }
      ]
    },
    {
      "cell_type": "markdown",
      "metadata": {
        "id": "6kmrP-a9_MMQ",
        "colab_type": "text"
      },
      "source": [
        "## Language model"
      ]
    },
    {
      "cell_type": "code",
      "metadata": {
        "id": "RiI8OEUr_PcD",
        "colab_type": "code",
        "colab": {
          "base_uri": "https://localhost:8080/",
          "height": 17
        },
        "outputId": "bad75020-9063-48ee-a96e-4b7a52573185"
      },
      "source": [
        "dls_lm = TextDataLoaders.from_df(df, path=path, text_col='text', is_lm=True, valid_pct=0.2)"
      ],
      "execution_count": null,
      "outputs": [
        {
          "output_type": "display_data",
          "data": {
            "text/html": [
              ""
            ],
            "text/plain": [
              "<IPython.core.display.HTML object>"
            ]
          },
          "metadata": {
            "tags": []
          }
        }
      ]
    },
    {
      "cell_type": "code",
      "metadata": {
        "id": "6QqsXfq5_ZJH",
        "colab_type": "code",
        "colab": {
          "base_uri": "https://localhost:8080/",
          "height": 634
        },
        "outputId": "e156f0b8-7cc5-4800-870b-ea88b4bfa72b"
      },
      "source": [
        "dls_lm.show_batch()"
      ],
      "execution_count": null,
      "outputs": [
        {
          "output_type": "display_data",
          "data": {
            "text/html": [
              "<table border=\"1\" class=\"dataframe\">\n",
              "  <thead>\n",
              "    <tr style=\"text-align: right;\">\n",
              "      <th></th>\n",
              "      <th>text</th>\n",
              "      <th>text_</th>\n",
              "    </tr>\n",
              "  </thead>\n",
              "  <tbody>\n",
              "    <tr>\n",
              "      <th>0</th>\n",
              "      <td>xxbos @southwestair # fail southwest changes my flight to a different time and city and xxunk it on me . xxmaj they wo n't correct it . # furious xxbos @southwestair xxunk xxunk 4 moms , 4 xxunk , 1 day trip to xxup la . # xxunk # xxunk http : / / t.co / xxunk \" # southwestairlines xxbos @jetblue as requested , here 's selfie somewhere over the xxmaj</td>\n",
              "      <td>@southwestair # fail southwest changes my flight to a different time and city and xxunk it on me . xxmaj they wo n't correct it . # furious xxbos @southwestair xxunk xxunk 4 moms , 4 xxunk , 1 day trip to xxup la . # xxunk # xxunk http : / / t.co / xxunk \" # southwestairlines xxbos @jetblue as requested , here 's selfie somewhere over the xxmaj xxunk</td>\n",
              "    </tr>\n",
              "    <tr>\n",
              "      <th>1</th>\n",
              "      <td>luggage with an infant and a 4 year old ? xxmaj then customer service never answered the phone . xxmaj i 've tried all night . xxbos @united what gate is xxunk leaving from ? xxbos @jetblue now we are waiting over an half hr for the packages . xxmaj what 's wrong with you guys ? ? http : / / t.co / xxunk xxbos @jetblue xxmaj touchdown xxup jfk !</td>\n",
              "      <td>with an infant and a 4 year old ? xxmaj then customer service never answered the phone . xxmaj i 've tried all night . xxbos @united what gate is xxunk leaving from ? xxbos @jetblue now we are waiting over an half hr for the packages . xxmaj what 's wrong with you guys ? ? http : / / t.co / xxunk xxbos @jetblue xxmaj touchdown xxup jfk ! xxmaj</td>\n",
              "    </tr>\n",
              "    <tr>\n",
              "      <th>2</th>\n",
              "      <td>xxunk the log . xxmaj xxunk … like in the 80s . xxbos @southwestair is my favorite airline ! i ca n't wait to book my flight to xxmaj new xxmaj orleans for my trip in xxmaj april ! ! :) :) xxbos @united xxmaj the xxmaj opal xxmaj dragon book xxmaj the xxmaj dragon ( ali ) has woven his murdering ways from the xxmaj philippines to xxmaj australia http :</td>\n",
              "      <td>the log . xxmaj xxunk … like in the 80s . xxbos @southwestair is my favorite airline ! i ca n't wait to book my flight to xxmaj new xxmaj orleans for my trip in xxmaj april ! ! :) :) xxbos @united xxmaj the xxmaj opal xxmaj dragon book xxmaj the xxmaj dragon ( ali ) has woven his murdering ways from the xxmaj philippines to xxmaj australia http : /</td>\n",
              "    </tr>\n",
              "    <tr>\n",
              "      <th>3</th>\n",
              "      <td>with # americanairlines # xxup aa2 xxrep 3 4 # ohio - # dallas missed my connecting flight http : / / t.co / xxunk xxbos @americanair you keep returning my call and hanging up when i answer ? xxmaj help reflight xxmaj booking xxmaj problems a flight ! xxbos 😎 xxup rt @virginamerica : xxmaj you ’ve met your match . xxmaj got status on another airline ? xxmaj upgrade (</td>\n",
              "      <td># americanairlines # xxup aa2 xxrep 3 4 # ohio - # dallas missed my connecting flight http : / / t.co / xxunk xxbos @americanair you keep returning my call and hanging up when i answer ? xxmaj help reflight xxmaj booking xxmaj problems a flight ! xxbos 😎 xxup rt @virginamerica : xxmaj you ’ve met your match . xxmaj got status on another airline ? xxmaj upgrade ( +</td>\n",
              "    </tr>\n",
              "    <tr>\n",
              "      <th>4</th>\n",
              "      <td>xxmaj said i was confirmed on flight out of xxup dfw &amp; &amp; got here and that was only standby . xxbos “ @jetblue : xxmaj our fleet 's on fleek . http : / / t.co / xxunk ” r u serious xxbos @united 3 hour 45 min delay so far … .. xxmaj would love to round to 4 hours to just go to bed ! xxbos @jetblue xxmaj when</td>\n",
              "      <td>said i was confirmed on flight out of xxup dfw &amp; &amp; got here and that was only standby . xxbos “ @jetblue : xxmaj our fleet 's on fleek . http : / / t.co / xxunk ” r u serious xxbos @united 3 hour 45 min delay so far … .. xxmaj would love to round to 4 hours to just go to bed ! xxbos @jetblue xxmaj when i</td>\n",
              "    </tr>\n",
              "    <tr>\n",
              "      <th>5</th>\n",
              "      <td>xxmaj please help . xxbos @united xxmaj aw , thanks for the kind words . xxmaj totally makes these extra 6 hours sitting in an airport s xxrep 4 o much better . xxbos @jetblue xxmaj why did you xxunk the xxmaj xxunk xxmaj series on xxunk . i do nt need to see your stupid commercials or xxmaj emergency . xxmaj info . xxbos @americanair flight xxup xxunk departing tomorrow (</td>\n",
              "      <td>please help . xxbos @united xxmaj aw , thanks for the kind words . xxmaj totally makes these extra 6 hours sitting in an airport s xxrep 4 o much better . xxbos @jetblue xxmaj why did you xxunk the xxmaj xxunk xxmaj series on xxunk . i do nt need to see your stupid commercials or xxmaj emergency . xxmaj info . xxbos @americanair flight xxup xxunk departing tomorrow ( wednesday</td>\n",
              "    </tr>\n",
              "    <tr>\n",
              "      <th>6</th>\n",
              "      <td>… . http : / / t.co / xxunk xxbos @united xxmaj i 've been waiting on my bag in xxup iah for 45mins . xxmaj they 're only 4 freaking people on that flight waiting for bags . xxmaj fix this ! ! xxbos @united volumes , profit up http : / / t.co / xxunk # aviation # xxunk http : / / t.co / xxunk xxbos @southwestair may want</td>\n",
              "      <td>. http : / / t.co / xxunk xxbos @united xxmaj i 've been waiting on my bag in xxup iah for 45mins . xxmaj they 're only 4 freaking people on that flight waiting for bags . xxmaj fix this ! ! xxbos @united volumes , profit up http : / / t.co / xxunk # aviation # xxunk http : / / t.co / xxunk xxbos @southwestair may want to</td>\n",
              "    </tr>\n",
              "    <tr>\n",
              "      <th>7</th>\n",
              "      <td>having checked . xxmaj odd as you said there was no complaint xxunk with my e - mail ? xxbos @americanair sitting on plane in xxmaj columbus , supposed to leave an hour ago . xxmaj now the xxunk ca n't find a tool to service the shock xxunk . xxbos @jetblue its domestic i just wanted more of an idea so i do n't get surprised . xxbos @united my dad</td>\n",
              "      <td>checked . xxmaj odd as you said there was no complaint xxunk with my e - mail ? xxbos @americanair sitting on plane in xxmaj columbus , supposed to leave an hour ago . xxmaj now the xxunk ca n't find a tool to service the shock xxunk . xxbos @jetblue its domestic i just wanted more of an idea so i do n't get surprised . xxbos @united my dad booked</td>\n",
              "    </tr>\n",
              "    <tr>\n",
              "      <th>8</th>\n",
              "      <td>@americanair aa employees were rude and unwilling to help . 10 , xxrep 3 0 miles is a rotten cherry on top of a dog shit xxmaj sunday . # xxunk xxbos @usairways i think it 's ok . xxbos @usairways are you fucking kidding me xxrep 3 ? http : / / t.co / xxunk xxbos @usairways so i guess you are ok with people being xxunk assaulted on your flights</td>\n",
              "      <td>aa employees were rude and unwilling to help . 10 , xxrep 3 0 miles is a rotten cherry on top of a dog shit xxmaj sunday . # xxunk xxbos @usairways i think it 's ok . xxbos @usairways are you fucking kidding me xxrep 3 ? http : / / t.co / xxunk xxbos @usairways so i guess you are ok with people being xxunk assaulted on your flights nice</td>\n",
              "    </tr>\n",
              "  </tbody>\n",
              "</table>"
            ],
            "text/plain": [
              "<IPython.core.display.HTML object>"
            ]
          },
          "metadata": {
            "tags": []
          }
        }
      ]
    },
    {
      "cell_type": "code",
      "metadata": {
        "id": "zyuWy6ns_e-a",
        "colab_type": "code",
        "colab": {
          "base_uri": "https://localhost:8080/",
          "height": 17
        },
        "outputId": "323d667b-5bf5-4857-a49b-853bcb341fbb"
      },
      "source": [
        "learn = language_model_learner(dls_lm, AWD_LSTM, metrics=[accuracy, Perplexity()], path=path, wd=0.1).to_fp16()"
      ],
      "execution_count": null,
      "outputs": [
        {
          "output_type": "display_data",
          "data": {
            "text/html": [
              ""
            ],
            "text/plain": [
              "<IPython.core.display.HTML object>"
            ]
          },
          "metadata": {
            "tags": []
          }
        }
      ]
    },
    {
      "cell_type": "code",
      "metadata": {
        "id": "-vXzD76gBo9R",
        "colab_type": "code",
        "colab": {
          "base_uri": "https://localhost:8080/",
          "height": 283
        },
        "outputId": "8d903b61-c181-481d-c481-8637063ec3ba"
      },
      "source": [
        "lr_min, lr_steep = learn.lr_find()"
      ],
      "execution_count": null,
      "outputs": [
        {
          "output_type": "display_data",
          "data": {
            "text/html": [
              ""
            ],
            "text/plain": [
              "<IPython.core.display.HTML object>"
            ]
          },
          "metadata": {
            "tags": []
          }
        },
        {
          "output_type": "display_data",
          "data": {
            "image/png": "[encoded data removed]",
            "text/plain": [
              "<Figure size 432x288 with 1 Axes>"
            ]
          },
          "metadata": {
            "tags": [],
            "needs_background": "light"
          }
        }
      ]
    },
    {
      "cell_type": "code",
      "metadata": {
        "id": "OsKk1SloBsNR",
        "colab_type": "code",
        "colab": {
          "base_uri": "https://localhost:8080/",
          "height": 80
        },
        "outputId": "43a0c8ca-849a-415d-9ab4-45ddf9483231"
      },
      "source": [
        "learn.fit_one_cycle(1, lr_min)"
      ],
      "execution_count": null,
      "outputs": [
        {
          "output_type": "display_data",
          "data": {
            "text/html": [
              "<table border=\"1\" class=\"dataframe\">\n",
              "  <thead>\n",
              "    <tr style=\"text-align: left;\">\n",
              "      <th>epoch</th>\n",
              "      <th>train_loss</th>\n",
              "      <th>valid_loss</th>\n",
              "      <th>accuracy</th>\n",
              "      <th>perplexity</th>\n",
              "      <th>time</th>\n",
              "    </tr>\n",
              "  </thead>\n",
              "  <tbody>\n",
              "    <tr>\n",
              "      <td>0</td>\n",
              "      <td>4.589088</td>\n",
              "      <td>3.973671</td>\n",
              "      <td>0.263392</td>\n",
              "      <td>53.179379</td>\n",
              "      <td>00:52</td>\n",
              "    </tr>\n",
              "  </tbody>\n",
              "</table>"
            ],
            "text/plain": [
              "<IPython.core.display.HTML object>"
            ]
          },
          "metadata": {
            "tags": []
          }
        }
      ]
    },
    {
      "cell_type": "code",
      "metadata": {
        "id": "ICfWHLa2Bzwj",
        "colab_type": "code",
        "colab": {}
      },
      "source": [
        "learn.unfreeze()"
      ],
      "execution_count": null,
      "outputs": []
    },
    {
      "cell_type": "code",
      "metadata": {
        "id": "Ah7rQataB1er",
        "colab_type": "code",
        "colab": {
          "base_uri": "https://localhost:8080/",
          "height": 283
        },
        "outputId": "1e59a5a7-947e-43c6-d310-f48f95d8ed27"
      },
      "source": [
        "lr_min, lr_steep = learn.lr_find()"
      ],
      "execution_count": null,
      "outputs": [
        {
          "output_type": "display_data",
          "data": {
            "text/html": [
              ""
            ],
            "text/plain": [
              "<IPython.core.display.HTML object>"
            ]
          },
          "metadata": {
            "tags": []
          }
        },
        {
          "output_type": "display_data",
          "data": {
            "image/png": "[encoded data removed]",
            "text/plain": [
              "<Figure size 432x288 with 1 Axes>"
            ]
          },
          "metadata": {
            "tags": [],
            "needs_background": "light"
          }
        }
      ]
    },
    {
      "cell_type": "code",
      "metadata": {
        "id": "06HFzTbMB2RC",
        "colab_type": "code",
        "colab": {
          "base_uri": "https://localhost:8080/",
          "height": 359
        },
        "outputId": "942cfef5-0a71-4802-aa1f-88c7a34cd5a8"
      },
      "source": [
        "learn.fit_one_cycle(10, lr_min)"
      ],
      "execution_count": null,
      "outputs": [
        {
          "output_type": "display_data",
          "data": {
            "text/html": [
              "<table border=\"1\" class=\"dataframe\">\n",
              "  <thead>\n",
              "    <tr style=\"text-align: left;\">\n",
              "      <th>epoch</th>\n",
              "      <th>train_loss</th>\n",
              "      <th>valid_loss</th>\n",
              "      <th>accuracy</th>\n",
              "      <th>perplexity</th>\n",
              "      <th>time</th>\n",
              "    </tr>\n",
              "  </thead>\n",
              "  <tbody>\n",
              "    <tr>\n",
              "      <td>0</td>\n",
              "      <td>4.058833</td>\n",
              "      <td>3.903012</td>\n",
              "      <td>0.272217</td>\n",
              "      <td>49.551464</td>\n",
              "      <td>01:01</td>\n",
              "    </tr>\n",
              "    <tr>\n",
              "      <td>1</td>\n",
              "      <td>3.965011</td>\n",
              "      <td>3.819868</td>\n",
              "      <td>0.282525</td>\n",
              "      <td>45.598194</td>\n",
              "      <td>01:01</td>\n",
              "    </tr>\n",
              "    <tr>\n",
              "      <td>2</td>\n",
              "      <td>3.858835</td>\n",
              "      <td>3.757169</td>\n",
              "      <td>0.290823</td>\n",
              "      <td>42.826992</td>\n",
              "      <td>01:01</td>\n",
              "    </tr>\n",
              "    <tr>\n",
              "      <td>3</td>\n",
              "      <td>3.767911</td>\n",
              "      <td>3.724291</td>\n",
              "      <td>0.295131</td>\n",
              "      <td>41.441853</td>\n",
              "      <td>01:01</td>\n",
              "    </tr>\n",
              "    <tr>\n",
              "      <td>4</td>\n",
              "      <td>3.682255</td>\n",
              "      <td>3.694996</td>\n",
              "      <td>0.299243</td>\n",
              "      <td>40.245415</td>\n",
              "      <td>01:01</td>\n",
              "    </tr>\n",
              "    <tr>\n",
              "      <td>5</td>\n",
              "      <td>3.612854</td>\n",
              "      <td>3.678699</td>\n",
              "      <td>0.301364</td>\n",
              "      <td>39.594830</td>\n",
              "      <td>01:01</td>\n",
              "    </tr>\n",
              "    <tr>\n",
              "      <td>6</td>\n",
              "      <td>3.556318</td>\n",
              "      <td>3.675020</td>\n",
              "      <td>0.302203</td>\n",
              "      <td>39.449455</td>\n",
              "      <td>01:01</td>\n",
              "    </tr>\n",
              "    <tr>\n",
              "      <td>7</td>\n",
              "      <td>3.504599</td>\n",
              "      <td>3.667885</td>\n",
              "      <td>0.303353</td>\n",
              "      <td>39.168961</td>\n",
              "      <td>01:01</td>\n",
              "    </tr>\n",
              "    <tr>\n",
              "      <td>8</td>\n",
              "      <td>3.479185</td>\n",
              "      <td>3.667469</td>\n",
              "      <td>0.304308</td>\n",
              "      <td>39.152668</td>\n",
              "      <td>01:01</td>\n",
              "    </tr>\n",
              "    <tr>\n",
              "      <td>9</td>\n",
              "      <td>3.449927</td>\n",
              "      <td>3.667466</td>\n",
              "      <td>0.304454</td>\n",
              "      <td>39.152573</td>\n",
              "      <td>01:01</td>\n",
              "    </tr>\n",
              "  </tbody>\n",
              "</table>"
            ],
            "text/plain": [
              "<IPython.core.display.HTML object>"
            ]
          },
          "metadata": {
            "tags": []
          }
        }
      ]
    },
    {
      "cell_type": "code",
      "metadata": {
        "id": "wwMuy4zUB5Hk",
        "colab_type": "code",
        "colab": {
          "base_uri": "https://localhost:8080/",
          "height": 34
        },
        "outputId": "521529b9-9af7-49a5-9f37-af5334e2240d"
      },
      "source": [
        "learn.save('twitter-sentiment-lm')"
      ],
      "execution_count": null,
      "outputs": [
        {
          "output_type": "execute_result",
          "data": {
            "text/plain": [
              "Path('twitter-sentiment/models/twitter-sentiment-lm.pth')"
            ]
          },
          "metadata": {
            "tags": []
          },
          "execution_count": 17
        }
      ]
    },
    {
      "cell_type": "code",
      "metadata": {
        "id": "aLlU1B-dB9vl",
        "colab_type": "code",
        "colab": {
          "base_uri": "https://localhost:8080/",
          "height": 51
        },
        "outputId": "62c84ec0-6a95-4adb-f582-cf0397f8ccc4"
      },
      "source": [
        "TEXT = \"I liked \"\n",
        "N_WORDS = 40\n",
        "N_SENTENCES = 2\n",
        "\n",
        "print(\"\\n\".join(learn.predict(TEXT, N_WORDS, temperature=0.75) for _ in range(N_SENTENCES)))"
      ],
      "execution_count": null,
      "outputs": [
        {
          "output_type": "display_data",
          "data": {
            "text/html": [
              ""
            ],
            "text/plain": [
              "<IPython.core.display.HTML object>"
            ]
          },
          "metadata": {
            "tags": []
          }
        },
        {
          "output_type": "display_data",
          "data": {
            "text/html": [
              ""
            ],
            "text/plain": [
              "<IPython.core.display.HTML object>"
            ]
          },
          "metadata": {
            "tags": []
          }
        },
        {
          "output_type": "stream",
          "text": [
            "i xxunk my AA hold times when you do n't show my name . How about consistent personnel ? @southwestair i have been on hold for 3 hours waiting for my help . Thank you for the help\n",
            "i xxunk Do you have any info ? i get a new license for my Late Flightr flight . Your Diego app is n't helping me . @united is the worst airline in the world …\n"
          ],
          "name": "stdout"
        }
      ]
    },
    {
      "cell_type": "code",
      "metadata": {
        "id": "vgkEPZvqCET4",
        "colab_type": "code",
        "colab": {}
      },
      "source": [
        "learn.save_encoder('twitter-sentiment-enc')"
      ],
      "execution_count": null,
      "outputs": []
    },
    {
      "cell_type": "markdown",
      "metadata": {
        "id": "5IJXPbt1CFeP",
        "colab_type": "text"
      },
      "source": [
        "## Text Classifier"
      ]
    },
    {
      "cell_type": "code",
      "metadata": {
        "id": "Yvh8VA_sCHEk",
        "colab_type": "code",
        "colab": {
          "base_uri": "https://localhost:8080/",
          "height": 17
        },
        "outputId": "fc17234c-d4b7-4271-8042-bcc2a397d11d"
      },
      "source": [
        "dls_clas = TextDataLoaders.from_df(df, path=path, text_col=\"text\", label_col=\"airline_sentiment\", valid_pct=0.2, text_vocab=dls_lm.vocab)"
      ],
      "execution_count": null,
      "outputs": [
        {
          "output_type": "display_data",
          "data": {
            "text/html": [
              ""
            ],
            "text/plain": [
              "<IPython.core.display.HTML object>"
            ]
          },
          "metadata": {
            "tags": []
          }
        }
      ]
    },
    {
      "cell_type": "code",
      "metadata": {
        "id": "L3P8wb_vCLKx",
        "colab_type": "code",
        "colab": {
          "base_uri": "https://localhost:8080/",
          "height": 379
        },
        "outputId": "717d55d9-6d3b-42e8-c101-770eaf886968"
      },
      "source": [
        "dls_clas.show_batch()"
      ],
      "execution_count": null,
      "outputs": [
        {
          "output_type": "display_data",
          "data": {
            "text/html": [
              "<table border=\"1\" class=\"dataframe\">\n",
              "  <thead>\n",
              "    <tr style=\"text-align: right;\">\n",
              "      <th></th>\n",
              "      <th>text</th>\n",
              "      <th>category</th>\n",
              "    </tr>\n",
              "  </thead>\n",
              "  <tbody>\n",
              "    <tr>\n",
              "      <th>0</th>\n",
              "      <td>xxbos @united xxmaj hi have a question re future xxmaj flight xxmaj booking xxmaj problems . xxup dub - jac 29 / 9 xxup jac - lax 8 / 10 xxup lax - dub 13 / 10 . xxmaj i 'm * xxunk xxmaj what is checked bag allowance for xxup jac - lax ?</td>\n",
              "      <td>neutral</td>\n",
              "    </tr>\n",
              "    <tr>\n",
              "      <th>1</th>\n",
              "      <td>xxbos @usairways e xxrep 4 y ! xxmaj cancelled xxmaj flightlations , xxmaj flight xxmaj booking xxmaj problemss , reflight xxmaj booking xxmaj problemss , but y' all got me on the same flight out tonight ( not tomorrow ) &amp; &amp; the xxup fc upgrade . xxmaj thx ! xxpad xxpad xxpad xxpad xxpad</td>\n",
              "      <td>positive</td>\n",
              "    </tr>\n",
              "    <tr>\n",
              "      <th>2</th>\n",
              "      <td>xxbos @southwestair i had to travel to xxmaj savannah , xxup xxunk , once again , on an airline i do n't \" luv \" . xxmaj when r u going to fly me to xxmaj savannah ? xxmaj pl xxrep 4 e ase xxrep 4 ! xxpad xxpad xxpad xxpad xxpad xxpad xxpad xxpad</td>\n",
              "      <td>neutral</td>\n",
              "    </tr>\n",
              "    <tr>\n",
              "      <th>3</th>\n",
              "      <td>xxbos @usairways xxup you xxup are xxup amazing xxrep 3 ! xxup you xxup are xxup the xxup best xxrep 3 ! xxup follow xxup me xxup please xxup and i xxup follow xxup you xxup back ; ) xxrep 3 🙏 ✌ ️ 😉 ) xxpad xxpad xxpad xxpad xxpad xxpad xxpad xxpad xxpad</td>\n",
              "      <td>positive</td>\n",
              "    </tr>\n",
              "    <tr>\n",
              "      <th>4</th>\n",
              "      <td>xxbos .@americanair ( 2 / 3 ) … i sat on the runway for 4 xxup more xxup hrs b4 takeoff ( 10 hrs xxmaj late xxmaj flight , xxunk xxup am ) . xxmaj pilot xxunk stated it was a comp / mech issue . xxpad xxpad xxpad xxpad xxpad xxpad xxpad xxpad xxpad</td>\n",
              "      <td>negative</td>\n",
              "    </tr>\n",
              "    <tr>\n",
              "      <th>5</th>\n",
              "      <td>xxbos @southwestair xxmaj loved one 's flight xxup atl to xxup ind xxmaj cancelled xxmaj flightled due to \" ice in xxmaj indy \" . xxmaj sitting here in xxmaj indy , it is xxunk dry . xxmaj tomorrow 4 - 6 \" of snow . xxpad xxpad xxpad xxpad xxpad xxpad xxpad xxpad xxpad</td>\n",
              "      <td>negative</td>\n",
              "    </tr>\n",
              "    <tr>\n",
              "      <th>6</th>\n",
              "      <td>xxbos @americanair xxmaj hey , xxup aa ! xxmaj there was a mistake made by your xxup cr on my xxmaj flight xxmaj booking xxmaj problems . xxmaj when i call your reservations # , i keep getting hung up on . xxmaj advise . xxpad xxpad xxpad xxpad xxpad xxpad xxpad xxpad xxpad xxpad</td>\n",
              "      <td>negative</td>\n",
              "    </tr>\n",
              "    <tr>\n",
              "      <th>7</th>\n",
              "      <td>xxbos @usairways - flight was xxmaj cancelled xxmaj flightled to xxmaj buf today . xxmaj waited in line for 2 + hrs &amp; &amp; xxunk service was rude . xxmaj no flight until xxmaj tues . xxmaj need to get to xxup roc . xxpad xxpad xxpad xxpad xxpad xxpad xxpad xxpad xxpad xxpad xxpad</td>\n",
              "      <td>negative</td>\n",
              "    </tr>\n",
              "    <tr>\n",
              "      <th>8</th>\n",
              "      <td>xxbos @usairways yes , i am as well . * * five * * xxup hours xxup on xxup hold , xxup folks . xxmaj can you xxup please tell me if this is typical ? ! xxmaj trying to be understanding here . xxpad xxpad xxpad xxpad xxpad xxpad xxpad xxpad xxpad xxpad xxpad</td>\n",
              "      <td>negative</td>\n",
              "    </tr>\n",
              "  </tbody>\n",
              "</table>"
            ],
            "text/plain": [
              "<IPython.core.display.HTML object>"
            ]
          },
          "metadata": {
            "tags": []
          }
        }
      ]
    },
    {
      "cell_type": "code",
      "metadata": {
        "id": "jED9qaSNCNrb",
        "colab_type": "code",
        "colab": {}
      },
      "source": [
        "learn = text_classifier_learner(dls_clas, AWD_LSTM, drop_mult=0.3, metrics=accuracy)"
      ],
      "execution_count": null,
      "outputs": []
    },
    {
      "cell_type": "code",
      "metadata": {
        "id": "76eSGyaMCUNF",
        "colab_type": "code",
        "colab": {}
      },
      "source": [
        "learn = learn.load_encoder('twitter-sentiment-enc')"
      ],
      "execution_count": null,
      "outputs": []
    },
    {
      "cell_type": "code",
      "metadata": {
        "id": "760Kb63BCXP3",
        "colab_type": "code",
        "colab": {
          "base_uri": "https://localhost:8080/",
          "height": 80
        },
        "outputId": "70d1f4c8-0090-4401-d45b-0b319bafb691"
      },
      "source": [
        "learn.fit_one_cycle(1, 2e-2)"
      ],
      "execution_count": null,
      "outputs": [
        {
          "output_type": "display_data",
          "data": {
            "text/html": [
              "<table border=\"1\" class=\"dataframe\">\n",
              "  <thead>\n",
              "    <tr style=\"text-align: left;\">\n",
              "      <th>epoch</th>\n",
              "      <th>train_loss</th>\n",
              "      <th>valid_loss</th>\n",
              "      <th>accuracy</th>\n",
              "      <th>time</th>\n",
              "    </tr>\n",
              "  </thead>\n",
              "  <tbody>\n",
              "    <tr>\n",
              "      <td>0</td>\n",
              "      <td>0.702337</td>\n",
              "      <td>0.505545</td>\n",
              "      <td>0.796790</td>\n",
              "      <td>00:29</td>\n",
              "    </tr>\n",
              "  </tbody>\n",
              "</table>"
            ],
            "text/plain": [
              "<IPython.core.display.HTML object>"
            ]
          },
          "metadata": {
            "tags": []
          }
        }
      ]
    },
    {
      "cell_type": "code",
      "metadata": {
        "id": "yDvuZ6hiCbqQ",
        "colab_type": "code",
        "colab": {
          "base_uri": "https://localhost:8080/",
          "height": 80
        },
        "outputId": "5dd46579-ac84-4ce2-f5b3-08cfee0b3a83"
      },
      "source": [
        "learn.freeze_to(-2)\n",
        "learn.fit_one_cycle(1, slice(1e-2/(2.6**4),1e-2))"
      ],
      "execution_count": null,
      "outputs": [
        {
          "output_type": "display_data",
          "data": {
            "text/html": [
              "<table border=\"1\" class=\"dataframe\">\n",
              "  <thead>\n",
              "    <tr style=\"text-align: left;\">\n",
              "      <th>epoch</th>\n",
              "      <th>train_loss</th>\n",
              "      <th>valid_loss</th>\n",
              "      <th>accuracy</th>\n",
              "      <th>time</th>\n",
              "    </tr>\n",
              "  </thead>\n",
              "  <tbody>\n",
              "    <tr>\n",
              "      <td>0</td>\n",
              "      <td>0.579725</td>\n",
              "      <td>0.481027</td>\n",
              "      <td>0.806352</td>\n",
              "      <td>00:29</td>\n",
              "    </tr>\n",
              "  </tbody>\n",
              "</table>"
            ],
            "text/plain": [
              "<IPython.core.display.HTML object>"
            ]
          },
          "metadata": {
            "tags": []
          }
        }
      ]
    },
    {
      "cell_type": "code",
      "metadata": {
        "id": "daF7atjHCcw_",
        "colab_type": "code",
        "colab": {
          "base_uri": "https://localhost:8080/",
          "height": 80
        },
        "outputId": "494f604c-09ad-483d-f071-acc9d50cda24"
      },
      "source": [
        "learn.freeze_to(-3)\n",
        "learn.fit_one_cycle(1, slice(5e-3/(2.6**4),5e-3))"
      ],
      "execution_count": null,
      "outputs": [
        {
          "output_type": "display_data",
          "data": {
            "text/html": [
              "<table border=\"1\" class=\"dataframe\">\n",
              "  <thead>\n",
              "    <tr style=\"text-align: left;\">\n",
              "      <th>epoch</th>\n",
              "      <th>train_loss</th>\n",
              "      <th>valid_loss</th>\n",
              "      <th>accuracy</th>\n",
              "      <th>time</th>\n",
              "    </tr>\n",
              "  </thead>\n",
              "  <tbody>\n",
              "    <tr>\n",
              "      <td>0</td>\n",
              "      <td>0.478611</td>\n",
              "      <td>0.465373</td>\n",
              "      <td>0.815232</td>\n",
              "      <td>00:33</td>\n",
              "    </tr>\n",
              "  </tbody>\n",
              "</table>"
            ],
            "text/plain": [
              "<IPython.core.display.HTML object>"
            ]
          },
          "metadata": {
            "tags": []
          }
        }
      ]
    },
    {
      "cell_type": "code",
      "metadata": {
        "id": "g8mQSoPJCfOR",
        "colab_type": "code",
        "colab": {
          "base_uri": "https://localhost:8080/",
          "height": 111
        },
        "outputId": "be487fe6-b655-44c8-e23e-0f3e7dcd0d81"
      },
      "source": [
        "learn.unfreeze()\n",
        "learn.fit_one_cycle(2, slice(1e-3/(2.6**4),1e-3))"
      ],
      "execution_count": null,
      "outputs": [
        {
          "output_type": "display_data",
          "data": {
            "text/html": [
              "<table border=\"1\" class=\"dataframe\">\n",
              "  <thead>\n",
              "    <tr style=\"text-align: left;\">\n",
              "      <th>epoch</th>\n",
              "      <th>train_loss</th>\n",
              "      <th>valid_loss</th>\n",
              "      <th>accuracy</th>\n",
              "      <th>time</th>\n",
              "    </tr>\n",
              "  </thead>\n",
              "  <tbody>\n",
              "    <tr>\n",
              "      <td>0</td>\n",
              "      <td>0.403855</td>\n",
              "      <td>0.474239</td>\n",
              "      <td>0.815915</td>\n",
              "      <td>00:38</td>\n",
              "    </tr>\n",
              "    <tr>\n",
              "      <td>1</td>\n",
              "      <td>0.342837</td>\n",
              "      <td>0.474566</td>\n",
              "      <td>0.822404</td>\n",
              "      <td>00:37</td>\n",
              "    </tr>\n",
              "  </tbody>\n",
              "</table>"
            ],
            "text/plain": [
              "<IPython.core.display.HTML object>"
            ]
          },
          "metadata": {
            "tags": []
          }
        }
      ]
    },
    {
      "cell_type": "code",
      "metadata": {
        "id": "77NPAv-OCgzJ",
        "colab_type": "code",
        "colab": {
          "base_uri": "https://localhost:8080/",
          "height": 345
        },
        "outputId": "76a74ac2-622f-4f9f-8154-07d0cf6e7b1e"
      },
      "source": [
        "learn.show_results()"
      ],
      "execution_count": null,
      "outputs": [
        {
          "output_type": "display_data",
          "data": {
            "text/html": [
              ""
            ],
            "text/plain": [
              "<IPython.core.display.HTML object>"
            ]
          },
          "metadata": {
            "tags": []
          }
        },
        {
          "output_type": "display_data",
          "data": {
            "text/html": [
              "<table border=\"1\" class=\"dataframe\">\n",
              "  <thead>\n",
              "    <tr style=\"text-align: right;\">\n",
              "      <th></th>\n",
              "      <th>text</th>\n",
              "      <th>category</th>\n",
              "      <th>category_</th>\n",
              "    </tr>\n",
              "  </thead>\n",
              "  <tbody>\n",
              "    <tr>\n",
              "      <th>0</th>\n",
              "      <td>xxbos @usairways xxup xxunk u xxup us xxup airways xxup with xxup yo xxup shitty xxup chicken xxup xxunk xxup sandwich xxup that xxup so xxup xxunk xxup and u xxup xxunk xxup make xxup me xxup wait xxup in a 6 xxup hr xxup layover xxup xxunk u xxup and</td>\n",
              "      <td>negative</td>\n",
              "      <td>negative</td>\n",
              "    </tr>\n",
              "    <tr>\n",
              "      <th>1</th>\n",
              "      <td>xxbos @united xxmaj hi , xxmaj i m flying xxup sfo - lax - xxunk - xxunk . xxmaj my connecting time in xxup lax is xxunk m . xxmaj is it enough time ? xxmaj do i have to collect my bag and xxunk on xxup xxunk ? xxpad xxpad</td>\n",
              "      <td>neutral</td>\n",
              "      <td>neutral</td>\n",
              "    </tr>\n",
              "    <tr>\n",
              "      <th>2</th>\n",
              "      <td>xxbos @united - xxup seriously it 's 2015 ? ! ? ! xxup no wifi on a 5hr flight from xxup cle - sfo # xxunk . xxmaj you 're the xxup only airline w / out wifi … and pls no ' xxunk ' xxup bs . xxpad xxpad xxpad</td>\n",
              "      <td>negative</td>\n",
              "      <td>negative</td>\n",
              "    </tr>\n",
              "    <tr>\n",
              "      <th>3</th>\n",
              "      <td>xxbos @americanair xxmaj hi . i have xxup koa - lax - phl - ord booked as a 1-way xxunk xxunk . xxmaj if i called to xxunk it to xxup koa - lax - phx - ord would i have to pay any fees xxpad xxpad xxpad xxpad xxpad xxpad</td>\n",
              "      <td>neutral</td>\n",
              "      <td>neutral</td>\n",
              "    </tr>\n",
              "    <tr>\n",
              "      <th>4</th>\n",
              "      <td>xxbos @southwestair no delay . i pay $ xxrep 3 7 xxunk for xxup bs xxup a1 ticket . xxmaj you boarded flight early . xxmaj i 'm last to board . xxmaj now have middle seat . xxmaj wasted xxrep 4 $ ! xxpad xxpad xxpad xxpad xxpad xxpad xxpad</td>\n",
              "      <td>negative</td>\n",
              "      <td>negative</td>\n",
              "    </tr>\n",
              "    <tr>\n",
              "      <th>5</th>\n",
              "      <td>xxbos @united : xxmaj unhappy with xxmaj united 's service ? \\n\\n xxmaj read xxmaj xxunk xxmaj xxunk 's open letter to ual 's xxup ceo . \\n\\n xxmaj leave a comment or xxup rt . \\n\\n http : / / t.co / xxunk xxpad xxpad xxpad xxpad xxpad xxpad xxpad</td>\n",
              "      <td>negative</td>\n",
              "      <td>neutral</td>\n",
              "    </tr>\n",
              "    <tr>\n",
              "      <th>6</th>\n",
              "      <td>xxbos @united ( 2 / 2 ) xxmaj it xxunk that if ca n't confirm cert at time of xxmaj flight xxmaj booking xxmaj problems , i should assume that it may never clear . xxmaj did n't used to be that way xxpad xxpad xxpad xxpad xxpad xxpad xxpad xxpad</td>\n",
              "      <td>negative</td>\n",
              "      <td>negative</td>\n",
              "    </tr>\n",
              "    <tr>\n",
              "      <th>7</th>\n",
              "      <td>xxbos @jetblue waiting for a flight to xxup fl for 1 / 2 marathon tmrw 4 charity . u bumped us 2a xxmaj late xxmaj flightr flight &amp; &amp; then xxmaj cancelled flightled xxup it . xxmaj how can you fix this ? xxpad xxpad xxpad xxpad xxpad xxpad xxpad xxpad</td>\n",
              "      <td>negative</td>\n",
              "      <td>negative</td>\n",
              "    </tr>\n",
              "    <tr>\n",
              "      <th>8</th>\n",
              "      <td>xxbos @southwestair so u xxmaj cancelled xxmaj flight our flight to xxup phx bc of xxup sdf weather but flights 2 the xxup xxunk from xxup sdf are still going on ? ! xxup wtf ? http : / / t.co / xxunk xxpad xxpad xxpad xxpad xxpad xxpad xxpad xxpad</td>\n",
              "      <td>negative</td>\n",
              "      <td>negative</td>\n",
              "    </tr>\n",
              "  </tbody>\n",
              "</table>"
            ],
            "text/plain": [
              "<IPython.core.display.HTML object>"
            ]
          },
          "metadata": {
            "tags": []
          }
        }
      ]
    }
  ]
}