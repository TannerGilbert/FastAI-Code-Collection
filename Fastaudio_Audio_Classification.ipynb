{
  "cells": [
    {
      "cell_type": "markdown",
      "metadata": {
        "id": "U85qOoI7J6rS"
      },
      "source": [
        "# Fastaudio Audio Classification\n",
        "\n",
        "from the [fastaudio repository](https://github.com/fastaudio/fastaudio)."
      ]
    },
    {
      "cell_type": "code",
      "execution_count": null,
      "metadata": {
        "colab": {
          "base_uri": "https://localhost:8080/"
        },
        "id": "hncDNYBqJ6rb",
        "outputId": "50efa5f9-2e0f-44eb-9bae-a20f8b80dbbf"
      },
      "outputs": [],
      "source": [
        "!pip install git+https://github.com/fastaudio/fastaudio"
      ]
    },
    {
      "cell_type": "markdown",
      "metadata": {
        "id": "M7Uvul-TJ6rd"
      },
      "source": [
        "**COLAB USERS: Before you continue and import the lib, go to the `Runtime` menu and select `Restart Runtime`.**"
      ]
    },
    {
      "cell_type": "code",
      "execution_count": null,
      "metadata": {
        "id": "SrILnEFRJ6rd"
      },
      "outputs": [],
      "source": [
        "from fastai.vision.all import *\n",
        "from fastaudio.core.all import *\n",
        "from fastaudio.augment.all import *\n",
        "from fastaudio.ci import skip_if_ci"
      ]
    },
    {
      "cell_type": "markdown",
      "metadata": {
        "id": "hO6U5rytJ6re"
      },
      "source": [
        "## Download and load data-set"
      ]
    },
    {
      "cell_type": "code",
      "execution_count": null,
      "metadata": {
        "id": "8MqIC-SpJ6rf"
      },
      "outputs": [],
      "source": [
        "#The first time this will download a dataset that is ~650mb\n",
        "path = untar_data(URLs.ESC50, dest=\"ESC50\")"
      ]
    },
    {
      "cell_type": "markdown",
      "metadata": {
        "id": "rboni1gSJ6rf"
      },
      "source": [
        "The audio files are inside a subfolder `audio/`"
      ]
    },
    {
      "cell_type": "code",
      "execution_count": null,
      "metadata": {
        "colab": {
          "base_uri": "https://localhost:8080/"
        },
        "id": "2iyRihIsJ6rg",
        "outputId": "cd316ea3-a797-44db-9f1b-82e015010853"
      },
      "outputs": [],
      "source": [
        "(path/\"audio\").ls()"
      ]
    },
    {
      "cell_type": "markdown",
      "metadata": {
        "id": "-tZad1zBJ6ri"
      },
      "source": [
        "And there's another folder `meta/` with some metadata about all the files and the labels"
      ]
    },
    {
      "cell_type": "code",
      "execution_count": null,
      "metadata": {
        "colab": {
          "base_uri": "https://localhost:8080/"
        },
        "id": "w0F0KVsoJ6ri",
        "outputId": "b089a3df-c271-4ea2-e834-6ec398f056c4"
      },
      "outputs": [],
      "source": [
        "(path/\"meta\").ls()"
      ]
    },
    {
      "cell_type": "markdown",
      "metadata": {
        "id": "TVWaTLWuJ6rj"
      },
      "source": [
        "Opening the metadata file"
      ]
    },
    {
      "cell_type": "code",
      "execution_count": null,
      "metadata": {
        "colab": {
          "base_uri": "https://localhost:8080/",
          "height": 204
        },
        "id": "hsVGzLRVJ6rj",
        "outputId": "0ab6c94a-a3b7-489f-d09b-d7fa5e835778",
        "scrolled": true
      },
      "outputs": [],
      "source": [
        "df = pd.read_csv(path/\"meta\"/\"esc50.csv\")\n",
        "df.head()"
      ]
    },
    {
      "cell_type": "markdown",
      "metadata": {
        "id": "Pu0tXTLpJ6rj"
      },
      "source": [
        "## Datablock and Dataloader preparation"
      ]
    },
    {
      "cell_type": "code",
      "execution_count": null,
      "metadata": {
        "id": "Tnc574sjJ6rk"
      },
      "outputs": [],
      "source": [
        "# Helper function to split the data\n",
        "def CrossValidationSplitter(col='fold', fold=1):\n",
        "    \"Split `items` (supposed to be a dataframe) by fold in `col`\"\n",
        "    def _inner(o):\n",
        "        assert isinstance(o, pd.DataFrame), \"ColSplitter only works when your items are a pandas DataFrame\"\n",
        "        col_values = o.iloc[:,col] if isinstance(col, int) else o[col]\n",
        "        valid_idx = (col_values == fold).values.astype('bool')\n",
        "        return IndexSplitter(mask2idxs(valid_idx))(o)\n",
        "    return _inner"
      ]
    },
    {
      "cell_type": "markdown",
      "metadata": {
        "id": "lWkJGmKZJ6rk"
      },
      "source": [
        "Creating the Audio to Spectrogram transform from a predefined config."
      ]
    },
    {
      "cell_type": "code",
      "execution_count": null,
      "metadata": {
        "colab": {
          "base_uri": "https://localhost:8080/"
        },
        "id": "ymynMzR-J6rk",
        "outputId": "f0dad4aa-9b1c-4eff-c273-81e7fee4e5e7"
      },
      "outputs": [],
      "source": [
        "cfg = AudioConfig.BasicMelSpectrogram(n_fft=512)\n",
        "a2s = AudioToSpec.from_cfg(cfg)"
      ]
    },
    {
      "cell_type": "markdown",
      "metadata": {
        "id": "WTfC668wJ6rl"
      },
      "source": [
        "Creating the Datablock"
      ]
    },
    {
      "cell_type": "code",
      "execution_count": null,
      "metadata": {
        "id": "dG4FGbEgJ6rl"
      },
      "outputs": [],
      "source": [
        "auds = DataBlock(blocks = (AudioBlock, CategoryBlock),  \n",
        "                 get_x = ColReader(\"filename\", pref=path/\"audio\"), \n",
        "                 splitter = CrossValidationSplitter(fold=1),\n",
        "                 batch_tfms = [a2s],\n",
        "                 get_y = ColReader(\"category\"))"
      ]
    },
    {
      "cell_type": "code",
      "execution_count": null,
      "metadata": {
        "id": "rPjz2mEQJ6rl"
      },
      "outputs": [],
      "source": [
        "dbunch = auds.dataloaders(df, bs=64)"
      ]
    },
    {
      "cell_type": "markdown",
      "metadata": {
        "id": "44o0RURfJ6rm"
      },
      "source": [
        "Visualizing one batch of data. Notice that the title of each Spectrogram is the corresponding label."
      ]
    },
    {
      "cell_type": "code",
      "execution_count": null,
      "metadata": {
        "colab": {
          "base_uri": "https://localhost:8080/",
          "height": 325
        },
        "id": "nqg0ELd-J6rm",
        "outputId": "b086e09b-0496-4c40-83d5-7d51201f479b",
        "scrolled": false
      },
      "outputs": [],
      "source": [
        "dbunch.show_batch(figsize=(10, 5))"
      ]
    },
    {
      "cell_type": "markdown",
      "metadata": {
        "id": "hIVk5JNyJ6rm"
      },
      "source": [
        "## Learner and Training"
      ]
    },
    {
      "cell_type": "markdown",
      "metadata": {
        "id": "Y_kKeqfJJ6rm"
      },
      "source": [
        "While creating the learner, we need to indicate that our input spectrograms only have one channel. Besides that, it's the usual vision learner."
      ]
    },
    {
      "cell_type": "code",
      "execution_count": null,
      "metadata": {
        "colab": {
          "base_uri": "https://localhost:8080/",
          "height": 66,
          "referenced_widgets": [
            "9a2562343eae4817ba58e050583ca002",
            "0cf3bc0aed0b4fc69316bf50873f8a50",
            "4a2b2e78d25f47e884008a5c31fd0ecd",
            "ace72a1340134f21892049163a8fed9f",
            "edf46ce838b44affb63e526c586457b3",
            "eb2ebb2141fd435f8c91dbfc3fc3f22e",
            "aba9cfce5ee943daa2adfd972ec5a78e",
            "3bb2337e192c489d858b075f100eb6aa",
            "54d1fb647d1a4a9a849fc2eb3b81b2e9",
            "6839449e88a546899754a4c5517699d6",
            "67d3dd4d33aa4402a341654122fe54d9"
          ]
        },
        "id": "7uCT1mhzJ6rn",
        "outputId": "582e1d51-a33c-41db-b93b-20f350199be1"
      },
      "outputs": [],
      "source": [
        "learn = cnn_learner(dbunch, \n",
        "            resnet18,\n",
        "            n_in=1,  # <- This is the only audio specific modification here\n",
        "            loss_func=CrossEntropyLossFlat(),\n",
        "            metrics=[accuracy])"
      ]
    },
    {
      "cell_type": "code",
      "execution_count": null,
      "metadata": {
        "colab": {
          "base_uri": "https://localhost:8080/",
          "height": 95
        },
        "id": "SyLrf90JJ6rn",
        "outputId": "d937a882-848a-4a91-816b-fcaff3438dc7"
      },
      "outputs": [],
      "source": [
        "@skip_if_ci\n",
        "def run_learner():\n",
        "    # epochs are a bit longer due to the chosen melspectrogram settings\n",
        "    learn.fine_tune(10)\n",
        "\n",
        "# We only validate the model when running in CI\n",
        "run_learner()"
      ]
    }
  ],
  "metadata": {
    "colab": {
      "name": "ESC50: Environmental Sound Classification.ipynb",
      "provenance": []
    },
    "kernelspec": {
      "display_name": "Python 3",
      "language": "python",
      "name": "python3"
    },
    "language_info": {
      "codemirror_mode": {
        "name": "ipython",
        "version": 3
      },
      "file_extension": ".py",
      "mimetype": "text/x-python",
      "name": "python",
      "nbconvert_exporter": "python",
      "pygments_lexer": "ipython3",
      "version": "3.7.9"
    },
    "widgets": {
      "application/vnd.jupyter.widget-state+json": {
        "0cf3bc0aed0b4fc69316bf50873f8a50": {
          "model_module": "@jupyter-widgets/base",
          "model_module_version": "1.2.0",
          "model_name": "LayoutModel",
          "state": {
            "_model_module": "@jupyter-widgets/base",
            "_model_module_version": "1.2.0",
            "_model_name": "LayoutModel",
            "_view_count": null,
            "_view_module": "@jupyter-widgets/base",
            "_view_module_version": "1.2.0",
            "_view_name": "LayoutView",
            "align_content": null,
            "align_items": null,
            "align_self": null,
            "border": null,
            "bottom": null,
            "display": null,
            "flex": null,
            "flex_flow": null,
            "grid_area": null,
            "grid_auto_columns": null,
            "grid_auto_flow": null,
            "grid_auto_rows": null,
            "grid_column": null,
            "grid_gap": null,
            "grid_row": null,
            "grid_template_areas": null,
            "grid_template_columns": null,
            "grid_template_rows": null,
            "height": null,
            "justify_content": null,
            "justify_items": null,
            "left": null,
            "margin": null,
            "max_height": null,
            "max_width": null,
            "min_height": null,
            "min_width": null,
            "object_fit": null,
            "object_position": null,
            "order": null,
            "overflow": null,
            "overflow_x": null,
            "overflow_y": null,
            "padding": null,
            "right": null,
            "top": null,
            "visibility": null,
            "width": null
          }
        },
        "3bb2337e192c489d858b075f100eb6aa": {
          "model_module": "@jupyter-widgets/controls",
          "model_module_version": "1.5.0",
          "model_name": "ProgressStyleModel",
          "state": {
            "_model_module": "@jupyter-widgets/controls",
            "_model_module_version": "1.5.0",
            "_model_name": "ProgressStyleModel",
            "_view_count": null,
            "_view_module": "@jupyter-widgets/base",
            "_view_module_version": "1.2.0",
            "_view_name": "StyleView",
            "bar_color": null,
            "description_width": ""
          }
        },
        "4a2b2e78d25f47e884008a5c31fd0ecd": {
          "model_module": "@jupyter-widgets/controls",
          "model_module_version": "1.5.0",
          "model_name": "HTMLModel",
          "state": {
            "_dom_classes": [],
            "_model_module": "@jupyter-widgets/controls",
            "_model_module_version": "1.5.0",
            "_model_name": "HTMLModel",
            "_view_count": null,
            "_view_module": "@jupyter-widgets/controls",
            "_view_module_version": "1.5.0",
            "_view_name": "HTMLView",
            "description": "",
            "description_tooltip": null,
            "layout": "IPY_MODEL_aba9cfce5ee943daa2adfd972ec5a78e",
            "placeholder": "​",
            "style": "IPY_MODEL_eb2ebb2141fd435f8c91dbfc3fc3f22e",
            "value": "100%"
          }
        },
        "54d1fb647d1a4a9a849fc2eb3b81b2e9": {
          "model_module": "@jupyter-widgets/base",
          "model_module_version": "1.2.0",
          "model_name": "LayoutModel",
          "state": {
            "_model_module": "@jupyter-widgets/base",
            "_model_module_version": "1.2.0",
            "_model_name": "LayoutModel",
            "_view_count": null,
            "_view_module": "@jupyter-widgets/base",
            "_view_module_version": "1.2.0",
            "_view_name": "LayoutView",
            "align_content": null,
            "align_items": null,
            "align_self": null,
            "border": null,
            "bottom": null,
            "display": null,
            "flex": null,
            "flex_flow": null,
            "grid_area": null,
            "grid_auto_columns": null,
            "grid_auto_flow": null,
            "grid_auto_rows": null,
            "grid_column": null,
            "grid_gap": null,
            "grid_row": null,
            "grid_template_areas": null,
            "grid_template_columns": null,
            "grid_template_rows": null,
            "height": null,
            "justify_content": null,
            "justify_items": null,
            "left": null,
            "margin": null,
            "max_height": null,
            "max_width": null,
            "min_height": null,
            "min_width": null,
            "object_fit": null,
            "object_position": null,
            "order": null,
            "overflow": null,
            "overflow_x": null,
            "overflow_y": null,
            "padding": null,
            "right": null,
            "top": null,
            "visibility": null,
            "width": null
          }
        },
        "67d3dd4d33aa4402a341654122fe54d9": {
          "model_module": "@jupyter-widgets/base",
          "model_module_version": "1.2.0",
          "model_name": "LayoutModel",
          "state": {
            "_model_module": "@jupyter-widgets/base",
            "_model_module_version": "1.2.0",
            "_model_name": "LayoutModel",
            "_view_count": null,
            "_view_module": "@jupyter-widgets/base",
            "_view_module_version": "1.2.0",
            "_view_name": "LayoutView",
            "align_content": null,
            "align_items": null,
            "align_self": null,
            "border": null,
            "bottom": null,
            "display": null,
            "flex": null,
            "flex_flow": null,
            "grid_area": null,
            "grid_auto_columns": null,
            "grid_auto_flow": null,
            "grid_auto_rows": null,
            "grid_column": null,
            "grid_gap": null,
            "grid_row": null,
            "grid_template_areas": null,
            "grid_template_columns": null,
            "grid_template_rows": null,
            "height": null,
            "justify_content": null,
            "justify_items": null,
            "left": null,
            "margin": null,
            "max_height": null,
            "max_width": null,
            "min_height": null,
            "min_width": null,
            "object_fit": null,
            "object_position": null,
            "order": null,
            "overflow": null,
            "overflow_x": null,
            "overflow_y": null,
            "padding": null,
            "right": null,
            "top": null,
            "visibility": null,
            "width": null
          }
        },
        "6839449e88a546899754a4c5517699d6": {
          "model_module": "@jupyter-widgets/controls",
          "model_module_version": "1.5.0",
          "model_name": "DescriptionStyleModel",
          "state": {
            "_model_module": "@jupyter-widgets/controls",
            "_model_module_version": "1.5.0",
            "_model_name": "DescriptionStyleModel",
            "_view_count": null,
            "_view_module": "@jupyter-widgets/base",
            "_view_module_version": "1.2.0",
            "_view_name": "StyleView",
            "description_width": ""
          }
        },
        "9a2562343eae4817ba58e050583ca002": {
          "model_module": "@jupyter-widgets/controls",
          "model_module_version": "1.5.0",
          "model_name": "HBoxModel",
          "state": {
            "_dom_classes": [],
            "_model_module": "@jupyter-widgets/controls",
            "_model_module_version": "1.5.0",
            "_model_name": "HBoxModel",
            "_view_count": null,
            "_view_module": "@jupyter-widgets/controls",
            "_view_module_version": "1.5.0",
            "_view_name": "HBoxView",
            "box_style": "",
            "children": [
              "IPY_MODEL_4a2b2e78d25f47e884008a5c31fd0ecd",
              "IPY_MODEL_ace72a1340134f21892049163a8fed9f",
              "IPY_MODEL_edf46ce838b44affb63e526c586457b3"
            ],
            "layout": "IPY_MODEL_0cf3bc0aed0b4fc69316bf50873f8a50"
          }
        },
        "aba9cfce5ee943daa2adfd972ec5a78e": {
          "model_module": "@jupyter-widgets/base",
          "model_module_version": "1.2.0",
          "model_name": "LayoutModel",
          "state": {
            "_model_module": "@jupyter-widgets/base",
            "_model_module_version": "1.2.0",
            "_model_name": "LayoutModel",
            "_view_count": null,
            "_view_module": "@jupyter-widgets/base",
            "_view_module_version": "1.2.0",
            "_view_name": "LayoutView",
            "align_content": null,
            "align_items": null,
            "align_self": null,
            "border": null,
            "bottom": null,
            "display": null,
            "flex": null,
            "flex_flow": null,
            "grid_area": null,
            "grid_auto_columns": null,
            "grid_auto_flow": null,
            "grid_auto_rows": null,
            "grid_column": null,
            "grid_gap": null,
            "grid_row": null,
            "grid_template_areas": null,
            "grid_template_columns": null,
            "grid_template_rows": null,
            "height": null,
            "justify_content": null,
            "justify_items": null,
            "left": null,
            "margin": null,
            "max_height": null,
            "max_width": null,
            "min_height": null,
            "min_width": null,
            "object_fit": null,
            "object_position": null,
            "order": null,
            "overflow": null,
            "overflow_x": null,
            "overflow_y": null,
            "padding": null,
            "right": null,
            "top": null,
            "visibility": null,
            "width": null
          }
        },
        "ace72a1340134f21892049163a8fed9f": {
          "model_module": "@jupyter-widgets/controls",
          "model_module_version": "1.5.0",
          "model_name": "FloatProgressModel",
          "state": {
            "_dom_classes": [],
            "_model_module": "@jupyter-widgets/controls",
            "_model_module_version": "1.5.0",
            "_model_name": "FloatProgressModel",
            "_view_count": null,
            "_view_module": "@jupyter-widgets/controls",
            "_view_module_version": "1.5.0",
            "_view_name": "ProgressView",
            "bar_style": "success",
            "description": "",
            "description_tooltip": null,
            "layout": "IPY_MODEL_54d1fb647d1a4a9a849fc2eb3b81b2e9",
            "max": 46827520,
            "min": 0,
            "orientation": "horizontal",
            "style": "IPY_MODEL_3bb2337e192c489d858b075f100eb6aa",
            "value": 46827520
          }
        },
        "eb2ebb2141fd435f8c91dbfc3fc3f22e": {
          "model_module": "@jupyter-widgets/controls",
          "model_module_version": "1.5.0",
          "model_name": "DescriptionStyleModel",
          "state": {
            "_model_module": "@jupyter-widgets/controls",
            "_model_module_version": "1.5.0",
            "_model_name": "DescriptionStyleModel",
            "_view_count": null,
            "_view_module": "@jupyter-widgets/base",
            "_view_module_version": "1.2.0",
            "_view_name": "StyleView",
            "description_width": ""
          }
        },
        "edf46ce838b44affb63e526c586457b3": {
          "model_module": "@jupyter-widgets/controls",
          "model_module_version": "1.5.0",
          "model_name": "HTMLModel",
          "state": {
            "_dom_classes": [],
            "_model_module": "@jupyter-widgets/controls",
            "_model_module_version": "1.5.0",
            "_model_name": "HTMLModel",
            "_view_count": null,
            "_view_module": "@jupyter-widgets/controls",
            "_view_module_version": "1.5.0",
            "_view_name": "HTMLView",
            "description": "",
            "description_tooltip": null,
            "layout": "IPY_MODEL_67d3dd4d33aa4402a341654122fe54d9",
            "placeholder": "​",
            "style": "IPY_MODEL_6839449e88a546899754a4c5517699d6",
            "value": " 44.7M/44.7M [00:00&lt;00:00, 69.0MB/s]"
          }
        }
      }
    }
  },
  "nbformat": 4,
  "nbformat_minor": 0
}
